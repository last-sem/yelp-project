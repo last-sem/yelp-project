{
 "cells": [
  {
   "cell_type": "code",
   "execution_count": null,
   "id": "638e1529",
   "metadata": {},
   "outputs": [],
   "source": [
    "import json"
   ]
  },
  {
   "cell_type": "code",
   "execution_count": null,
   "id": "564b6a54",
   "metadata": {},
   "outputs": [],
   "source": [
    "review = open(\"data/yelp_academic_dataset_review.json\", \"r\", encoding='utf-8')\n",
    "business = open(\"data/yelp_academic_dataset_business.json\", \"r\", encoding='utf-8')\n",
    "user = open(\"data/yelp_academic_dataset_user.json\", \"r\", encoding='utf-8')\n",
    "checkin = open(\"data/yelp_academic_dataset_checkin.json\", \"r\", encoding='utf-8')\n",
    "covid19 = open(\"data/yelp_academic_dataset_covid_features.json\", \"r\", encoding='utf-8')"
   ]
  }
 ],
 "metadata": {
  "kernelspec": {
   "display_name": "Python 3 (ipykernel)",
   "language": "python",
   "name": "python3"
  },
  "language_info": {
   "codemirror_mode": {
    "name": "ipython",
    "version": 3
   },
   "file_extension": ".py",
   "mimetype": "text/x-python",
   "name": "python",
   "nbconvert_exporter": "python",
   "pygments_lexer": "ipython3",
   "version": "3.9.7"
  }
 },
 "nbformat": 4,
 "nbformat_minor": 5
}
