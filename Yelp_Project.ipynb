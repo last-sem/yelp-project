{
 "cells": [
  {
   "cell_type": "code",
   "execution_count": 1,
   "id": "30123793",
   "metadata": {},
   "outputs": [
    {
     "name": "stdout",
     "output_type": "stream",
     "text": [
      "Requirement already satisfied: notebook>=5.3 in c:\\users\\ajrui\\miniconda3\\lib\\site-packages (6.4.3)\n",
      "Requirement already satisfied: ipywidgets>=7.5 in c:\\users\\ajrui\\miniconda3\\lib\\site-packages (7.6.5)\n",
      "Requirement already satisfied: nbformat in c:\\users\\ajrui\\miniconda3\\lib\\site-packages (from notebook>=5.3) (5.1.3)\n",
      "Requirement already satisfied: jinja2 in c:\\users\\ajrui\\miniconda3\\lib\\site-packages (from notebook>=5.3) (3.0.1)\n",
      "Requirement already satisfied: Send2Trash>=1.5.0 in c:\\users\\ajrui\\miniconda3\\lib\\site-packages (from notebook>=5.3) (1.8.0)\n",
      "Requirement already satisfied: nbconvert in c:\\users\\ajrui\\miniconda3\\lib\\site-packages (from notebook>=5.3) (6.1.0)\n",
      "Requirement already satisfied: traitlets>=4.2.1 in c:\\users\\ajrui\\miniconda3\\lib\\site-packages (from notebook>=5.3) (5.0.5)\n",
      "Requirement already satisfied: ipython-genutils in c:\\users\\ajrui\\miniconda3\\lib\\site-packages (from notebook>=5.3) (0.2.0)\n",
      "Requirement already satisfied: tornado>=6.1 in c:\\users\\ajrui\\miniconda3\\lib\\site-packages (from notebook>=5.3) (6.1)\n",
      "Requirement already satisfied: argon2-cffi in c:\\users\\ajrui\\miniconda3\\lib\\site-packages (from notebook>=5.3) (20.1.0)\n",
      "Requirement already satisfied: jupyter-core>=4.6.1 in c:\\users\\ajrui\\miniconda3\\lib\\site-packages (from notebook>=5.3) (4.7.1)\n",
      "Requirement already satisfied: prometheus-client in c:\\users\\ajrui\\miniconda3\\lib\\site-packages (from notebook>=5.3) (0.11.0)\n",
      "Requirement already satisfied: pyzmq>=17 in c:\\users\\ajrui\\miniconda3\\lib\\site-packages (from notebook>=5.3) (22.2.1)\n",
      "Requirement already satisfied: ipykernel in c:\\users\\ajrui\\miniconda3\\lib\\site-packages (from notebook>=5.3) (6.2.0)\n",
      "Requirement already satisfied: terminado>=0.8.3 in c:\\users\\ajrui\\miniconda3\\lib\\site-packages (from notebook>=5.3) (0.9.4)\n",
      "Requirement already satisfied: jupyter-client>=5.3.4 in c:\\users\\ajrui\\miniconda3\\lib\\site-packages (from notebook>=5.3) (6.1.12)\n",
      "Requirement already satisfied: widgetsnbextension~=3.5.0 in c:\\users\\ajrui\\miniconda3\\lib\\site-packages (from ipywidgets>=7.5) (3.5.2)\n",
      "Requirement already satisfied: ipython>=4.0.0 in c:\\users\\ajrui\\miniconda3\\lib\\site-packages (from ipywidgets>=7.5) (7.26.0)\n",
      "Requirement already satisfied: jupyterlab-widgets>=1.0.0 in c:\\users\\ajrui\\miniconda3\\lib\\site-packages (from ipywidgets>=7.5) (1.0.2)\n",
      "Requirement already satisfied: debugpy<2.0,>=1.0.0 in c:\\users\\ajrui\\miniconda3\\lib\\site-packages (from ipykernel->notebook>=5.3) (1.4.1)\n",
      "Requirement already satisfied: matplotlib-inline<0.2.0,>=0.1.0 in c:\\users\\ajrui\\miniconda3\\lib\\site-packages (from ipykernel->notebook>=5.3) (0.1.2)\n",
      "Requirement already satisfied: decorator in c:\\users\\ajrui\\miniconda3\\lib\\site-packages (from ipython>=4.0.0->ipywidgets>=7.5) (5.0.9)\n",
      "Requirement already satisfied: pickleshare in c:\\users\\ajrui\\miniconda3\\lib\\site-packages (from ipython>=4.0.0->ipywidgets>=7.5) (0.7.5)\n",
      "Requirement already satisfied: jedi>=0.16 in c:\\users\\ajrui\\miniconda3\\lib\\site-packages (from ipython>=4.0.0->ipywidgets>=7.5) (0.18.0)\n",
      "Requirement already satisfied: backcall in c:\\users\\ajrui\\miniconda3\\lib\\site-packages (from ipython>=4.0.0->ipywidgets>=7.5) (0.2.0)\n",
      "Requirement already satisfied: colorama in c:\\users\\ajrui\\miniconda3\\lib\\site-packages (from ipython>=4.0.0->ipywidgets>=7.5) (0.4.4)\n",
      "Requirement already satisfied: setuptools>=18.5 in c:\\users\\ajrui\\miniconda3\\lib\\site-packages (from ipython>=4.0.0->ipywidgets>=7.5) (52.0.0.post20210125)\n",
      "Requirement already satisfied: prompt-toolkit!=3.0.0,!=3.0.1,<3.1.0,>=2.0.0 in c:\\users\\ajrui\\miniconda3\\lib\\site-packages (from ipython>=4.0.0->ipywidgets>=7.5) (3.0.19)\n",
      "Requirement already satisfied: pygments in c:\\users\\ajrui\\miniconda3\\lib\\site-packages (from ipython>=4.0.0->ipywidgets>=7.5) (2.10.0)\n",
      "Requirement already satisfied: parso<0.9.0,>=0.8.0 in c:\\users\\ajrui\\miniconda3\\lib\\site-packages (from jedi>=0.16->ipython>=4.0.0->ipywidgets>=7.5) (0.8.2)\n",
      "Requirement already satisfied: python-dateutil>=2.1 in c:\\users\\ajrui\\miniconda3\\lib\\site-packages (from jupyter-client>=5.3.4->notebook>=5.3) (2.8.2)\n",
      "Requirement already satisfied: pywin32>=1.0 in c:\\users\\ajrui\\miniconda3\\lib\\site-packages (from jupyter-core>=4.6.1->notebook>=5.3) (228)\n",
      "Requirement already satisfied: jsonschema!=2.5.0,>=2.4 in c:\\users\\ajrui\\miniconda3\\lib\\site-packages (from nbformat->notebook>=5.3) (3.2.0)\n",
      "Requirement already satisfied: attrs>=17.4.0 in c:\\users\\ajrui\\miniconda3\\lib\\site-packages (from jsonschema!=2.5.0,>=2.4->nbformat->notebook>=5.3) (21.2.0)\n",
      "Requirement already satisfied: six>=1.11.0 in c:\\users\\ajrui\\miniconda3\\lib\\site-packages (from jsonschema!=2.5.0,>=2.4->nbformat->notebook>=5.3) (1.16.0)\n",
      "Requirement already satisfied: pyrsistent>=0.14.0 in c:\\users\\ajrui\\miniconda3\\lib\\site-packages (from jsonschema!=2.5.0,>=2.4->nbformat->notebook>=5.3) (0.17.3)\n",
      "Requirement already satisfied: wcwidth in c:\\users\\ajrui\\miniconda3\\lib\\site-packages (from prompt-toolkit!=3.0.0,!=3.0.1,<3.1.0,>=2.0.0->ipython>=4.0.0->ipywidgets>=7.5) (0.2.5)\n",
      "Requirement already satisfied: pywinpty>=0.5 in c:\\users\\ajrui\\miniconda3\\lib\\site-packages (from terminado>=0.8.3->notebook>=5.3) (0.5.7)\n",
      "Requirement already satisfied: cffi>=1.0.0 in c:\\users\\ajrui\\miniconda3\\lib\\site-packages (from argon2-cffi->notebook>=5.3) (1.14.6)\n",
      "Requirement already satisfied: pycparser in c:\\users\\ajrui\\miniconda3\\lib\\site-packages (from cffi>=1.0.0->argon2-cffi->notebook>=5.3) (2.20)\n",
      "Requirement already satisfied: MarkupSafe>=2.0 in c:\\users\\ajrui\\miniconda3\\lib\\site-packages (from jinja2->notebook>=5.3) (2.0.1)\n",
      "Requirement already satisfied: entrypoints>=0.2.2 in c:\\users\\ajrui\\miniconda3\\lib\\site-packages (from nbconvert->notebook>=5.3) (0.3)\n",
      "Requirement already satisfied: jupyterlab-pygments in c:\\users\\ajrui\\miniconda3\\lib\\site-packages (from nbconvert->notebook>=5.3) (0.1.2)\n",
      "Requirement already satisfied: pandocfilters>=1.4.1 in c:\\users\\ajrui\\miniconda3\\lib\\site-packages (from nbconvert->notebook>=5.3) (1.4.2)\n",
      "Requirement already satisfied: defusedxml in c:\\users\\ajrui\\miniconda3\\lib\\site-packages (from nbconvert->notebook>=5.3) (0.7.1)\n",
      "Requirement already satisfied: bleach in c:\\users\\ajrui\\miniconda3\\lib\\site-packages (from nbconvert->notebook>=5.3) (4.0.0)\n",
      "Requirement already satisfied: testpath in c:\\users\\ajrui\\miniconda3\\lib\\site-packages (from nbconvert->notebook>=5.3) (0.5.0)\n",
      "Requirement already satisfied: nbclient<0.6.0,>=0.5.0 in c:\\users\\ajrui\\miniconda3\\lib\\site-packages (from nbconvert->notebook>=5.3) (0.5.4)\n",
      "Requirement already satisfied: mistune<2,>=0.8.1 in c:\\users\\ajrui\\miniconda3\\lib\\site-packages (from nbconvert->notebook>=5.3) (0.8.4)\n",
      "Requirement already satisfied: nest-asyncio in c:\\users\\ajrui\\miniconda3\\lib\\site-packages (from nbclient<0.6.0,>=0.5.0->nbconvert->notebook>=5.3) (1.5.1)\n",
      "Requirement already satisfied: webencodings in c:\\users\\ajrui\\miniconda3\\lib\\site-packages (from bleach->nbconvert->notebook>=5.3) (0.5.1)\n",
      "Requirement already satisfied: packaging in c:\\users\\ajrui\\miniconda3\\lib\\site-packages (from bleach->nbconvert->notebook>=5.3) (21.0)\n",
      "Requirement already satisfied: pyparsing>=2.0.2 in c:\\users\\ajrui\\miniconda3\\lib\\site-packages (from packaging->bleach->nbconvert->notebook>=5.3) (2.4.7)\n",
      "Requirement already satisfied: plotly==5.3.1 in c:\\users\\ajrui\\miniconda3\\lib\\site-packages (5.3.1)\n",
      "Requirement already satisfied: tenacity>=6.2.0 in c:\\users\\ajrui\\miniconda3\\lib\\site-packages (from plotly==5.3.1) (8.0.1)\n",
      "Requirement already satisfied: six in c:\\users\\ajrui\\miniconda3\\lib\\site-packages (from plotly==5.3.1) (1.16.0)\n"
     ]
    }
   ],
   "source": [
    "!pip install \"notebook>=5.3\" \"ipywidgets>=7.5\"\n",
    "!pip install plotly==5.3.1 "
   ]
  },
  {
   "cell_type": "code",
   "execution_count": 2,
   "id": "638e1529",
   "metadata": {},
   "outputs": [],
   "source": [
    "import json\n",
    "from pyspark import SparkContext\n",
    "from pyspark.sql import SparkSession\n",
    "from pyspark.sql import functions as F\n",
    "import plotly.express as px"
   ]
  },
  {
   "cell_type": "code",
   "execution_count": 3,
   "id": "a8a19cee",
   "metadata": {},
   "outputs": [],
   "source": [
    "px.set_mapbox_access_token(\"pk.eyJ1IjoicmV4dGVyZHMiLCJhIjoiY2t2dWgwazZ2M3E2YTJucWd3aDY1Yzd3dyJ9.r-rgjBmvcCMR1tBu8imGUQ\") "
   ]
  },
  {
   "cell_type": "code",
   "execution_count": 4,
   "id": "8044d664",
   "metadata": {},
   "outputs": [],
   "source": [
    "sc = SparkContext()\n",
    "ss = SparkSession(sc)\n"
   ]
  },
  {
   "cell_type": "code",
   "execution_count": 5,
   "id": "564b6a54",
   "metadata": {},
   "outputs": [],
   "source": [
    "business = ss.read.json(\"data/yelp_academic_dataset_business.json\")\n",
    "checkin = ss.read.json(\"data/yelp_academic_dataset_checkin.json\")\n",
    "review = ss.read.json(\"data/yelp_academic_dataset_review.json\")\n",
    "tip = ss.read.json(\"data/yelp_academic_dataset_tip.json\")\n",
    "user = ss.read.json(\"data/yelp_academic_dataset_user.json\")"
   ]
  },
  {
   "cell_type": "code",
   "execution_count": 6,
   "id": "d018c19c",
   "metadata": {
    "scrolled": false
   },
   "outputs": [
    {
     "name": "stdout",
     "output_type": "stream",
     "text": [
      "root\n",
      " |-- _corrupt_record: string (nullable = true)\n",
      " |-- address: string (nullable = true)\n",
      " |-- attributes: struct (nullable = true)\n",
      " |    |-- AcceptsInsurance: string (nullable = true)\n",
      " |    |-- AgesAllowed: string (nullable = true)\n",
      " |    |-- Alcohol: string (nullable = true)\n",
      " |    |-- Ambience: string (nullable = true)\n",
      " |    |-- BYOB: string (nullable = true)\n",
      " |    |-- BYOBCorkage: string (nullable = true)\n",
      " |    |-- BestNights: string (nullable = true)\n",
      " |    |-- BikeParking: string (nullable = true)\n",
      " |    |-- BusinessAcceptsBitcoin: string (nullable = true)\n",
      " |    |-- BusinessAcceptsCreditCards: string (nullable = true)\n",
      " |    |-- BusinessParking: string (nullable = true)\n",
      " |    |-- ByAppointmentOnly: string (nullable = true)\n",
      " |    |-- Caters: string (nullable = true)\n",
      " |    |-- CoatCheck: string (nullable = true)\n",
      " |    |-- Corkage: string (nullable = true)\n",
      " |    |-- DietaryRestrictions: string (nullable = true)\n",
      " |    |-- DogsAllowed: string (nullable = true)\n",
      " |    |-- DriveThru: string (nullable = true)\n",
      " |    |-- GoodForDancing: string (nullable = true)\n",
      " |    |-- GoodForKids: string (nullable = true)\n",
      " |    |-- GoodForMeal: string (nullable = true)\n",
      " |    |-- HairSpecializesIn: string (nullable = true)\n",
      " |    |-- HappyHour: string (nullable = true)\n",
      " |    |-- HasTV: string (nullable = true)\n",
      " |    |-- Music: string (nullable = true)\n",
      " |    |-- NoiseLevel: string (nullable = true)\n",
      " |    |-- Open24Hours: string (nullable = true)\n",
      " |    |-- OutdoorSeating: string (nullable = true)\n",
      " |    |-- RestaurantsAttire: string (nullable = true)\n",
      " |    |-- RestaurantsCounterService: string (nullable = true)\n",
      " |    |-- RestaurantsDelivery: string (nullable = true)\n",
      " |    |-- RestaurantsGoodForGroups: string (nullable = true)\n",
      " |    |-- RestaurantsPriceRange2: string (nullable = true)\n",
      " |    |-- RestaurantsReservations: string (nullable = true)\n",
      " |    |-- RestaurantsTableService: string (nullable = true)\n",
      " |    |-- RestaurantsTakeOut: string (nullable = true)\n",
      " |    |-- Smoking: string (nullable = true)\n",
      " |    |-- WheelchairAccessible: string (nullable = true)\n",
      " |    |-- WiFi: string (nullable = true)\n",
      " |-- business_id: string (nullable = true)\n",
      " |-- categories: string (nullable = true)\n",
      " |-- city: string (nullable = true)\n",
      " |-- hours: struct (nullable = true)\n",
      " |    |-- Friday: string (nullable = true)\n",
      " |    |-- Monday: string (nullable = true)\n",
      " |    |-- Saturday: string (nullable = true)\n",
      " |    |-- Sunday: string (nullable = true)\n",
      " |    |-- Thursday: string (nullable = true)\n",
      " |    |-- Tuesday: string (nullable = true)\n",
      " |    |-- Wednesday: string (nullable = true)\n",
      " |-- is_open: long (nullable = true)\n",
      " |-- latitude: double (nullable = true)\n",
      " |-- longitude: double (nullable = true)\n",
      " |-- name: string (nullable = true)\n",
      " |-- postal_code: string (nullable = true)\n",
      " |-- review_count: long (nullable = true)\n",
      " |-- stars: double (nullable = true)\n",
      " |-- state: string (nullable = true)\n",
      "\n",
      "160553\n"
     ]
    }
   ],
   "source": [
    "business.printSchema()\n",
    "print(business.count())"
   ]
  },
  {
   "cell_type": "code",
   "execution_count": 7,
   "id": "8c68b735",
   "metadata": {},
   "outputs": [
    {
     "name": "stdout",
     "output_type": "stream",
     "text": [
      "root\n",
      " |-- business_id: string (nullable = true)\n",
      " |-- date: string (nullable = true)\n",
      "\n",
      "138876\n"
     ]
    }
   ],
   "source": [
    "checkin.printSchema()\n",
    "print(checkin.count())"
   ]
  },
  {
   "cell_type": "code",
   "execution_count": 8,
   "id": "10a25f0e",
   "metadata": {},
   "outputs": [
    {
     "name": "stdout",
     "output_type": "stream",
     "text": [
      "root\n",
      " |-- _corrupt_record: string (nullable = true)\n",
      " |-- business_id: string (nullable = true)\n",
      " |-- cool: long (nullable = true)\n",
      " |-- date: string (nullable = true)\n",
      " |-- funny: long (nullable = true)\n",
      " |-- review_id: string (nullable = true)\n",
      " |-- stars: double (nullable = true)\n",
      " |-- text: string (nullable = true)\n",
      " |-- useful: long (nullable = true)\n",
      " |-- user_id: string (nullable = true)\n",
      "\n",
      "8618983\n"
     ]
    }
   ],
   "source": [
    "review.printSchema()\n",
    "print(review.count())"
   ]
  },
  {
   "cell_type": "code",
   "execution_count": 9,
   "id": "7497dd43",
   "metadata": {},
   "outputs": [
    {
     "name": "stdout",
     "output_type": "stream",
     "text": [
      "root\n",
      " |-- _corrupt_record: string (nullable = true)\n",
      " |-- business_id: string (nullable = true)\n",
      " |-- compliment_count: long (nullable = true)\n",
      " |-- date: string (nullable = true)\n",
      " |-- text: string (nullable = true)\n",
      " |-- user_id: string (nullable = true)\n",
      "\n",
      "1160282\n"
     ]
    }
   ],
   "source": [
    "tip.printSchema()\n",
    "print(tip.count())"
   ]
  },
  {
   "cell_type": "code",
   "execution_count": 10,
   "id": "32381c2c",
   "metadata": {
    "scrolled": true
   },
   "outputs": [
    {
     "name": "stdout",
     "output_type": "stream",
     "text": [
      "root\n",
      " |-- _corrupt_record: string (nullable = true)\n",
      " |-- average_stars: double (nullable = true)\n",
      " |-- compliment_cool: long (nullable = true)\n",
      " |-- compliment_cute: long (nullable = true)\n",
      " |-- compliment_funny: long (nullable = true)\n",
      " |-- compliment_hot: long (nullable = true)\n",
      " |-- compliment_list: long (nullable = true)\n",
      " |-- compliment_more: long (nullable = true)\n",
      " |-- compliment_note: long (nullable = true)\n",
      " |-- compliment_photos: long (nullable = true)\n",
      " |-- compliment_plain: long (nullable = true)\n",
      " |-- compliment_profile: long (nullable = true)\n",
      " |-- compliment_writer: long (nullable = true)\n",
      " |-- cool: long (nullable = true)\n",
      " |-- elite: string (nullable = true)\n",
      " |-- fans: long (nullable = true)\n",
      " |-- friends: string (nullable = true)\n",
      " |-- funny: long (nullable = true)\n",
      " |-- name: string (nullable = true)\n",
      " |-- review_count: long (nullable = true)\n",
      " |-- useful: long (nullable = true)\n",
      " |-- user_id: string (nullable = true)\n",
      " |-- yelping_since: string (nullable = true)\n",
      "\n",
      "2188437\n"
     ]
    }
   ],
   "source": [
    "user.printSchema()\n",
    "print(user.count())"
   ]
  },
  {
   "cell_type": "code",
   "execution_count": 11,
   "id": "4d3219ed",
   "metadata": {
    "scrolled": true
   },
   "outputs": [
    {
     "name": "stdout",
     "output_type": "stream",
     "text": [
      "+--------------------+-------------+---------------+------------+-----+-----+\n",
      "|                name|     latitude|      longitude|review_count|stars|state|\n",
      "+--------------------+-------------+---------------+------------+-----+-----+\n",
      "|Good Times Burger...|    40.022457|    -105.260884|           9|  1.5|   WY|\n",
      "|     Brooks Brothers|   42.3586616|    -71.0550652|           7|  3.5|   WI|\n",
      "|Beaches Restauran...|   45.6148087|   -122.6520268|         719|  3.5|   WA|\n",
      "|Kenji's Ramen & G...|   45.6197591|   -122.5399554|         657|  4.0|   WA|\n",
      "|Thai Orchid Resta...|   45.6295205|   -122.6728246|         636|  4.0|   WA|\n",
      "|    Thai Wok Kitchen|45.6412270338|-122.6175698488|         556|  4.5|   WA|\n",
      "|    Joe's Crab Shack|45.6209771132|   -122.6715666|         550|  3.0|   WA|\n",
      "|Abhiruchi Indian ...|   45.6229319|   -122.5565457|         497|  4.5|   WA|\n",
      "|Lapellah Restaura...|   45.6191266|   -122.6442021|         465|  3.5|   WA|\n",
      "|The Rock Wood Fir...|45.6191484137|-122.6456597789|         465|  3.5|   WA|\n",
      "|Breakfast At Vale...|   45.6171607|   -122.5557138|         461|  4.0|   WA|\n",
      "|Heathen Brewing F...|45.6300387995|-122.6724838973|         460|  3.5|   WA|\n",
      "|Who Song and Larry's|45.6208360419|-122.6711873543|         458|  3.5|   WA|\n",
      "|         Petra House|    45.636383|    -122.508032|         453|  4.0|   WA|\n",
      "|       Killer Burger|   45.6093922|   -122.5035228|         448|  4.0|   WA|\n",
      "|The Smokin' Oak P...|   45.6250736|   -122.6734862|         440|  4.0|   WA|\n",
      "|        I Heart Gyro|    45.622043|    -122.564519|         436|  4.5|   WA|\n",
      "|WildFin American ...|45.6239701478|-122.6806466442|         425|  4.0|   WA|\n",
      "|NOM NOM Restauran...|45.6273841722| -122.669267622|         419|  4.0|   WA|\n",
      "|Makoto Japanese B...|   45.6131726|   -122.5048906|         417|  3.5|   WA|\n",
      "+--------------------+-------------+---------------+------------+-----+-----+\n",
      "only showing top 20 rows\n",
      "\n"
     ]
    }
   ],
   "source": [
    "review_counts = (business\n",
    "                  .select(\"name\", \"latitude\", \"longitude\", \"review_count\", \"stars\", \"state\")\n",
    "                  .sort(\"state\", \"review_count\", ascending=False))\n",
    "review_counts.show()"
   ]
  },
  {
   "cell_type": "code",
   "execution_count": 12,
   "id": "7e7d7b62",
   "metadata": {},
   "outputs": [
    {
     "name": "stdout",
     "output_type": "stream",
     "text": [
      "+--------------------+--------------------+-----+-----+\n",
      "|                name|          categories|state|stars|\n",
      "+--------------------+--------------------+-----+-----+\n",
      "|Nutria Pond behin...|Zoos, Parks, Acti...|   OR|  3.5|\n",
      "|          Oregon Zoo|Zoos, Parks, Acti...|   OR|  4.0|\n",
      "|Manatee Observati...|Zoos, Local Servi...|   FL|  4.5|\n",
      "|Rose and Grace Mi...|Zoos, Event Plann...|   TX|  5.0|\n",
      "|   Jungle Adventures|Zoos, Active Life...|   FL|  4.0|\n",
      "|   Franklin Park Zoo|   Zoos, Active Life|   MA|  3.5|\n",
      "|Maharajah Jungle ...|   Zoos, Active Life|   FL|  4.5|\n",
      "|Zoom Air Adventur...|Ziplining, Botani...|   FL|  4.5|\n",
      "|   Orlando Tree Trek|Ziplining, Active...|   FL|  4.5|\n",
      "|Grouse Mountain Z...|Ziplining, Active...|   BC|  4.0|\n",
      "|          LA Fitness|Yoga, Trainers, S...|   OH|  2.0|\n",
      "|          Cycle Elan|Yoga, Trainers, G...|   GA|  5.0|\n",
      "|          LA Fitness|Yoga, Trainers, G...|   GA|  2.5|\n",
      "|   Blueprint Fitness|Yoga, Trainers, G...|   GA|  5.0|\n",
      "|    Full Circle Yoga|Yoga, Trainers, F...|   FL|  5.0|\n",
      "|Gold's Gym Austin...|Yoga, Trainers, F...|   TX|  3.0|\n",
      "|     Anytime Fitness|Yoga, Trainers, F...|   CO|  5.0|\n",
      "|           Yoga Yoga|Yoga, Trainers, F...|   TX|  4.5|\n",
      "|Angel's Boot Camp...|Yoga, Trainers, B...|   OR|  5.0|\n",
      "|    Health Yoga Life|Yoga, Trainers, A...|   MA|  4.0|\n",
      "+--------------------+--------------------+-----+-----+\n",
      "only showing top 20 rows\n",
      "\n"
     ]
    }
   ],
   "source": [
    "similar_categories = (business\n",
    "                     .select(\"name\", \"categories\", \"state\", \"stars\")\n",
    "                     .sort(\"categories\", \"state\", ascending=False))\n",
    "similar_categories.show()"
   ]
  },
  {
   "cell_type": "code",
   "execution_count": 13,
   "id": "0e20ef8b",
   "metadata": {
    "scrolled": true
   },
   "outputs": [
    {
     "name": "stdout",
     "output_type": "stream",
     "text": [
      "+--------------------+-------------+---------------+-------------+\n",
      "|         business_id|     latitude|      longitude|checkin_count|\n",
      "+--------------------+-------------+---------------+-------------+\n",
      "|7sxYa0-TwWeWGFr5C...|33.6407227072| -84.4276356697|       150005|\n",
      "|EqUqaLJxMDxIqvnma...|     45.58979|    -122.595204|        75511|\n",
      "|2PxZ-fICnd432NJHe...|28.4278388741|  -81.308182904|        63982|\n",
      "|UlndVD4tezU3FACjZ...|    30.202473|     -97.666861|        54657|\n",
      "|vITc1UkWLvG9pVdaO...|42.3622379746| -71.0210756391|        54361|\n",
      "|cyBm7p3D2RAoGlDn-...|    28.417663|     -81.581212|        25208|\n",
      "|NvAYQvjLxwGC-kcWz...|    28.374694|     -81.549404|        24017|\n",
      "|4CxF8c3MB7VAdY8zF...|45.5226120114|-122.6730836114|        20291|\n",
      "|OPfgKOm_n-ajUo3qj...|   45.5230969|    -122.681325|        19941|\n",
      "|m3DeBd0NSbAGDjUOk...|49.1942850587|  -123.18076195|        18388|\n",
      "|BOFD5UmhHvCn_XH3_...|    28.370971|     -81.519392|        17033|\n",
      "|C_k727ws82eMe9xtJ...|   39.9980574|    -82.8838088|        16848|\n",
      "|OQ2oHkcWA8KNC1Lsv...|   45.5230858|     -122.64168|        15946|\n",
      "|qeuJgUdcmL5yAweOs...|   45.5246501|   -122.6818687|        15451|\n",
      "|Tjgte2R4e-3JWj4aA...|   28.3575294|    -81.5582714|        15378|\n",
      "|zioLxtBc9THNS2TOn...|    45.504723|    -122.632105|        14934|\n",
      "|5y2zZGIE2a4tuEJ5F...|    30.270557|     -97.753177|        14153|\n",
      "|5xS76cdT7THG14H_W...|    28.359719|     -81.591313|        14151|\n",
      "|PrsvO1rzkgg6qFizl...|42.3641813865| -71.0542184385|        13360|\n",
      "|o_L9Ss4boqq6ZEF9x...|   45.5289444|   -122.6982801|        12202|\n",
      "+--------------------+-------------+---------------+-------------+\n",
      "only showing top 20 rows\n",
      "\n"
     ]
    }
   ],
   "source": [
    "business_checkin = (business\n",
    "                    .join(checkin, \"business_id\")\n",
    "                    .withColumn(\"checkin_count\", F.size(F.split(F.col(\"date\"), \",\")))\n",
    "                    .select(\"business_id\", \"latitude\", \"longitude\", \"checkin_count\")\n",
    "                    .sort(\"checkin_count\", ascending=False))\n",
    "\n",
    "business_checkin.show()"
   ]
  },
  {
   "cell_type": "code",
   "execution_count": 14,
   "id": "d7b19014",
   "metadata": {},
   "outputs": [
    {
     "name": "stdout",
     "output_type": "stream",
     "text": [
      "+--------------------+--------------------+-------------------+-----+----+\n",
      "|           review_id|         business_id|               date|month|year|\n",
      "+--------------------+--------------------+-------------------+-----+----+\n",
      "|RIlyZDUUL7dn-wX9R...|zzzKmD9Mj6WtJwJUh...|2012-01-05 07:25:19|   01|2012|\n",
      "|Beiu8FUpabvKp_tIj...|zzzKmD9Mj6WtJwJUh...|2011-07-06 03:11:19|   07|2011|\n",
      "|NsbPfBB7VcKavo2kP...|zzzKmD9Mj6WtJwJUh...|2011-01-30 07:26:01|   01|2011|\n",
      "|ZLg9JZBm8fti3kdcK...|zzzKmD9Mj6WtJwJUh...|2010-12-26 08:06:25|   12|2010|\n",
      "|_PDg4GKwqstcU4jqS...|zzzKmD9Mj6WtJwJUh...|2010-05-05 21:14:56|   05|2010|\n",
      "|7Me9k1V0KNyqAds43...|zzzKmD9Mj6WtJwJUh...|2010-03-07 20:52:10|   03|2010|\n",
      "|PEgXvQE2ZKGQZWqt5...|zzzKmD9Mj6WtJwJUh...|2009-10-22 19:53:49|   10|2009|\n",
      "|coFCcXcoVnTLwNMct...|zzzKmD9Mj6WtJwJUh...|2009-10-13 08:08:57|   10|2009|\n",
      "|79BNQZEWEcZjZe4G7...|zzxIO4bjWCQrvCJ0O...|2020-06-05 12:17:10|   06|2020|\n",
      "|DWbIic86a-H_8nau6...|zzxIO4bjWCQrvCJ0O...|2020-01-09 21:53:36|   01|2020|\n",
      "|6LVhP-V7QtsjN34Ao...|zzxIO4bjWCQrvCJ0O...|2019-08-15 22:00:46|   08|2019|\n",
      "|h5xb4XzKaFr_hBS1_...|zzxIO4bjWCQrvCJ0O...|2018-05-09 11:46:59|   05|2018|\n",
      "|64mGlTN9U8uh3qLQq...|zzxIO4bjWCQrvCJ0O...|2011-11-02 14:02:07|   11|2011|\n",
      "|K0DGtUbEh9mKHrLh4...|zzwK-TJsCJX5wZrdt...|2016-08-02 16:31:57|   08|2016|\n",
      "|uQzssdiURqnvdQVPd...|zzwK-TJsCJX5wZrdt...|2016-07-24 19:06:03|   07|2016|\n",
      "|xgfrMLg0mBFkbzZyN...|zzwK-TJsCJX5wZrdt...|2016-07-19 04:10:43|   07|2016|\n",
      "|7aAloTeX7KceHKivy...|zzwK-TJsCJX5wZrdt...|2016-07-19 01:17:27|   07|2016|\n",
      "|d6KrSTDkBcRmqBZMh...|zzwK-TJsCJX5wZrdt...|2016-07-18 19:54:03|   07|2016|\n",
      "|tseKwcVWB-PBSLzbK...|zzwK-TJsCJX5wZrdt...|2015-05-06 14:45:58|   05|2015|\n",
      "|nw1N6IVukv-Ez_JTL...|zzwK-TJsCJX5wZrdt...|2014-05-06 16:05:21|   05|2014|\n",
      "+--------------------+--------------------+-------------------+-----+----+\n",
      "only showing top 20 rows\n",
      "\n"
     ]
    }
   ],
   "source": [
    "review_dates = (review\n",
    "                .join(business, \"business_id\")\n",
    "                .select(\"review_id\", \"business_id\", \"date\")\n",
    "                .sort(\"business_id\", \"date\", ascending=False)\n",
    "                .withColumn(\"month\", F.split(F.col(\"date\"), \"-\")[1])\n",
    "                .withColumn(\"year\", F.split(F.col(\"date\"), \"-\")[0]))\n",
    "\n",
    "review_dates.show()"
   ]
  },
  {
   "cell_type": "code",
   "execution_count": 15,
   "id": "37526d3a",
   "metadata": {},
   "outputs": [
    {
     "name": "stdout",
     "output_type": "stream",
     "text": [
      "+-----+----+\n",
      "|month|year|\n",
      "+-----+----+\n",
      "|   01|2021|\n",
      "|   01|2021|\n",
      "|   01|2021|\n",
      "|   01|2021|\n",
      "|   01|2021|\n",
      "|   01|2021|\n",
      "|   01|2021|\n",
      "|   01|2021|\n",
      "|   01|2021|\n",
      "|   01|2021|\n",
      "|   01|2021|\n",
      "|   01|2021|\n",
      "|   01|2021|\n",
      "|   01|2021|\n",
      "|   01|2021|\n",
      "|   01|2021|\n",
      "|   01|2021|\n",
      "|   01|2021|\n",
      "|   01|2021|\n",
      "|   01|2021|\n",
      "+-----+----+\n",
      "only showing top 20 rows\n",
      "\n",
      "+-----+----+----+----+----+-----+-----+-----+-----+-----+-----+-----+-----+-----+-----+------+-----+-----+-----+\n",
      "|month|2004|2005|2006|2007| 2008| 2009| 2010| 2011| 2012| 2013| 2014| 2015| 2016| 2017|  2018| 2019| 2020| 2021|\n",
      "+-----+----+----+----+----+-----+-----+-----+-----+-----+-----+-----+-----+-----+-----+------+-----+-----+-----+\n",
      "|   01|null|   1| 829|4641| 9978|17157|23355|33857|39638|42999|52222|68179|79224|77022| 82318|83009|72710|42385|\n",
      "|   02|null|   4|1242|4374| 9627|15091|22542|32067|36790|39963|47830|61077|75043|72542| 77057|77788|70992| null|\n",
      "|   03|null|  25|1466|4431|10509|16563|25287|36408|40011|43022|56319|73258|78672|84138| 90887|89313|47740| null|\n",
      "|   04|null|  47|1824|4448|10506|15331|23285|33942|36511|41119|53844|69307|77936|84188| 89639|82296|23116| null|\n",
      "|   05|null|  70|1712|5875|10604|15629|22880|34572|37732|43508|56482|75024|81100|87740| 91074|87509|32348| null|\n",
      "|   06|null| 483|1556|6418|11283|16519|24430|34906|38790|43316|59583|74986|80423|88071| 93439|89555|41875| null|\n",
      "|   07|null|2359|1506|7391|14473|18400|28151|39290|41733|47874|66537|82539|86691|95600|102868|92775|48191| null|\n",
      "|   08|null|2214|1957|6528|16531|20917|31113|39888|41260|51679|69061|86155|83542|89539| 96236|90419|51919| null|\n",
      "|   09|null| 310|2053|6223|13657|18017|26650|33976|36809|46541|60437|73122|74389|80122| 82885|79269|49334| null|\n",
      "|   10|  37| 281|2471|6528|13117|18585|27126|34691|38105|47561|60641|74890|74185|82273| 81540|78212|50377| null|\n",
      "|   11|   2| 206|3227|6349|13093|17757|26071|32642|36108|44948|57876|68128|65701|74382| 74567|69879|42558| null|\n",
      "|   12|  12| 275|3413|7084|12457|16528|25968|31690|34645|45014|57729|65830|67680|73936| 77898|70503|43363| null|\n",
      "+-----+----+----+----+----+-----+-----+-----+-----+-----+-----+-----+-----+-----+-----+------+-----+-----+-----+\n",
      "\n"
     ]
    }
   ],
   "source": [
    "review_count_by_date = (review_dates\n",
    "                        .select(\"month\", \"year\")\n",
    "                        .sort(\"year\", \"month\", ascending=False))\n",
    "\n",
    "review_count_by_date.show()\n",
    "\n",
    "review_count_by_date.groupBy(\"month\").pivot(\"year\").count().sort(\"month\", ascending=True).show()"
   ]
  },
  {
   "cell_type": "code",
   "execution_count": 16,
   "id": "1b0423b8",
   "metadata": {},
   "outputs": [
    {
     "name": "stdout",
     "output_type": "stream",
     "text": [
      "+--------------------+--------------------+-------------+---------------+\n",
      "|             user_id|         business_id|     latitude|      longitude|\n",
      "+--------------------+--------------------+-------------+---------------+\n",
      "|--0666UC6t7DJWO4m...|5xS76cdT7THG14H_W...|    28.359719|     -81.591313|\n",
      "|--0LWpVOR539pgBvl...|QVnatPo7jCEh9FcKl...|   42.3647559|    -71.1032591|\n",
      "|--19CSe_41_fEKvfV...|i7jMAf1cZJ9h1FRTQ...|40.0176800756|-105.2803100092|\n",
      "|--2GHi3yi8D4yBuUY...|lAMX7ndl9sJh117Qh...|   45.3838053|   -122.7590583|\n",
      "|--2GHi3yi8D4yBuUY...|1jW2Voh5XE7Yt6ZV-...|45.5735589587|-122.5590787902|\n",
      "|--56dSK1Y7agEMyIJ...|ZHxrgZY4NAqtnsBuo...|30.3322467627| -97.7405043632|\n",
      "|--9BvAldSQW8wmAn0...|ebCy57mw7WPLrnWLQ...|  45.36711897|  -122.60042912|\n",
      "|--DBsOOiMurIanfF2...|-2aMFgYft7rED0bst...|    28.358601|     -81.333251|\n",
      "|--HBdJ3-gCfIwC3aA...|lslTGfavHimYBM8fT...|     45.51885|   -122.6788921|\n",
      "|--Hh_cXFJJUqYB2ST...|Tav-9OWqGKFestUqt...|   45.5197485|   -122.6773629|\n",
      "|--IpFJ0EzvdepaxP4...|2kKbqNPY6j1AbpXxY...|   28.4611857|    -81.4592294|\n",
      "|--IpFJ0EzvdepaxP4...|qUD8Oopa9pUTPVudH...|   28.5537257|    -81.3646788|\n",
      "|--IpFJ0EzvdepaxP4...|f-dvot7GwmnObBdCl...|   28.5414527|     -81.377741|\n",
      "|--IpFJ0EzvdepaxP4...|OMOxwfTxPilOunHS2...|    28.545395|     -81.351488|\n",
      "|--IpFJ0EzvdepaxP4...|wpm_IUt_AoZOXdUvP...|   28.5058152|    -81.3758795|\n",
      "|--IpFJ0EzvdepaxP4...|KAwB6KyjhUizBhFo8...|28.4129814792| -81.4054021493|\n",
      "|--JgAxm4jQ3GPgOp6...|Pl_BSZM-dS1R9v29H...|   33.7879682|    -84.3259796|\n",
      "|--JgAxm4jQ3GPgOp6...|6J-lSviMGkXXPldhn...|33.8044395665| -84.3355759796|\n",
      "|--JgAxm4jQ3GPgOp6...|7sxYa0-TwWeWGFr5C...|33.6407227072| -84.4276356697|\n",
      "|--JgAxm4jQ3GPgOp6...|GqCFSzqDyDi45Zm0O...|33.7963896243| -84.3710424221|\n",
      "+--------------------+--------------------+-------------+---------------+\n",
      "only showing top 20 rows\n",
      "\n"
     ]
    }
   ],
   "source": [
    "user_reviews_location = (user\n",
    "                           .join(review, 'user_id')\n",
    "                           .join(business, 'business_id'))\n",
    "\n",
    "user_reviews_location.select('user_id', 'business_id', 'latitude', 'longitude').show()"
   ]
  },
  {
   "cell_type": "code",
   "execution_count": null,
   "id": "743f9b26",
   "metadata": {},
   "outputs": [],
   "source": [
    "review_counts_pd = review_counts.toPandas()\n",
    "fig = px.density_mapbox(review_counts_pd, lat='latitude', lon='longitude', z='review_count', radius=10, zoom=3,\n",
    "                        mapbox_style=\"stamen-terrain\")\n",
    "fig.show()"
   ]
  },
  {
   "cell_type": "code",
   "execution_count": null,
   "id": "e26529c5",
   "metadata": {},
   "outputs": [],
   "source": [
    "business_checkin_pd = business_checkin.toPandas()\n",
    "\n",
    "fig = px.density_mapbox(business_checkin_pd, lat='latitude', lon='longitude', z='checkin_count', radius=10, zoom=3,\n",
    "                        mapbox_style=\"stamen-terrain\")\n",
    "fig.show()"
   ]
  },
  {
   "cell_type": "code",
   "execution_count": null,
   "id": "54d6595d",
   "metadata": {},
   "outputs": [],
   "source": [
    "fig = px.scatter_mapbox(business_checkin_pd, lat='latitude', lon='longitude', color=\"checkin_count\", size=\"checkin_count\",\n",
    "                  color_continuous_scale=px.colors.cyclical.IceFire, size_max=15, zoom=10)\n",
    "fig.show()"
   ]
  }
 ],
 "metadata": {
  "kernelspec": {
   "display_name": "Python 3 (ipykernel)",
   "language": "python",
   "name": "python3"
  },
  "language_info": {
   "codemirror_mode": {
    "name": "ipython",
    "version": 3
   },
   "file_extension": ".py",
   "mimetype": "text/x-python",
   "name": "python",
   "nbconvert_exporter": "python",
   "pygments_lexer": "ipython3",
   "version": "3.9.5"
  }
 },
 "nbformat": 4,
 "nbformat_minor": 5
}
